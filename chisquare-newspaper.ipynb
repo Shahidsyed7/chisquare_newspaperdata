{
 "cells": [
  {
   "cell_type": "code",
   "execution_count": 1,
   "id": "3307e0cf",
   "metadata": {
    "execution": {
     "iopub.execute_input": "2024-12-25T16:39:22.964154Z",
     "iopub.status.busy": "2024-12-25T16:39:22.963725Z",
     "iopub.status.idle": "2024-12-25T16:39:23.393308Z",
     "shell.execute_reply": "2024-12-25T16:39:23.392097Z"
    },
    "papermill": {
     "duration": 0.440509,
     "end_time": "2024-12-25T16:39:23.395351",
     "exception": false,
     "start_time": "2024-12-25T16:39:22.954842",
     "status": "completed"
    },
    "tags": []
   },
   "outputs": [],
   "source": [
    "#import dataset ,y=mx+c,y=beta1x + beta \\0\n",
    "#simple linear regression\n",
    "#HO=daily edition revenue is not dependent on sunday edition revenue\n",
    "#H1=daily edition revenue is dependent on sunday edition revenue\n",
    "\n",
    "import pandas as pd\n",
    "df=pd.read_csv(\"/kaggle/input/newspaper/NewspaperData (1) (1).csv\")"
   ]
  },
  {
   "cell_type": "code",
   "execution_count": 2,
   "id": "ea9b162f",
   "metadata": {
    "execution": {
     "iopub.execute_input": "2024-12-25T16:39:23.412274Z",
     "iopub.status.busy": "2024-12-25T16:39:23.411825Z",
     "iopub.status.idle": "2024-12-25T16:39:23.440308Z",
     "shell.execute_reply": "2024-12-25T16:39:23.439090Z"
    },
    "papermill": {
     "duration": 0.038889,
     "end_time": "2024-12-25T16:39:23.442381",
     "exception": false,
     "start_time": "2024-12-25T16:39:23.403492",
     "status": "completed"
    },
    "tags": []
   },
   "outputs": [
    {
     "data": {
      "text/html": [
       "<div>\n",
       "<style scoped>\n",
       "    .dataframe tbody tr th:only-of-type {\n",
       "        vertical-align: middle;\n",
       "    }\n",
       "\n",
       "    .dataframe tbody tr th {\n",
       "        vertical-align: top;\n",
       "    }\n",
       "\n",
       "    .dataframe thead th {\n",
       "        text-align: right;\n",
       "    }\n",
       "</style>\n",
       "<table border=\"1\" class=\"dataframe\">\n",
       "  <thead>\n",
       "    <tr style=\"text-align: right;\">\n",
       "      <th></th>\n",
       "      <th>Newspaper</th>\n",
       "      <th>daily</th>\n",
       "      <th>sunday</th>\n",
       "    </tr>\n",
       "  </thead>\n",
       "  <tbody>\n",
       "    <tr>\n",
       "      <th>0</th>\n",
       "      <td>Baltimore Sun</td>\n",
       "      <td>391.952</td>\n",
       "      <td>488.506</td>\n",
       "    </tr>\n",
       "    <tr>\n",
       "      <th>1</th>\n",
       "      <td>Boston Globe</td>\n",
       "      <td>516.981</td>\n",
       "      <td>798.298</td>\n",
       "    </tr>\n",
       "    <tr>\n",
       "      <th>2</th>\n",
       "      <td>Boston Herald</td>\n",
       "      <td>355.628</td>\n",
       "      <td>235.084</td>\n",
       "    </tr>\n",
       "    <tr>\n",
       "      <th>3</th>\n",
       "      <td>Charlotte Observer</td>\n",
       "      <td>238.555</td>\n",
       "      <td>299.451</td>\n",
       "    </tr>\n",
       "    <tr>\n",
       "      <th>4</th>\n",
       "      <td>Chicago Sun Times</td>\n",
       "      <td>537.780</td>\n",
       "      <td>559.093</td>\n",
       "    </tr>\n",
       "    <tr>\n",
       "      <th>5</th>\n",
       "      <td>Chicago Tribune</td>\n",
       "      <td>733.775</td>\n",
       "      <td>1133.249</td>\n",
       "    </tr>\n",
       "    <tr>\n",
       "      <th>6</th>\n",
       "      <td>Cincinnati Enquirer</td>\n",
       "      <td>198.832</td>\n",
       "      <td>348.744</td>\n",
       "    </tr>\n",
       "    <tr>\n",
       "      <th>7</th>\n",
       "      <td>Denver Post</td>\n",
       "      <td>252.624</td>\n",
       "      <td>417.779</td>\n",
       "    </tr>\n",
       "    <tr>\n",
       "      <th>8</th>\n",
       "      <td>Des Moines Register</td>\n",
       "      <td>206.204</td>\n",
       "      <td>344.522</td>\n",
       "    </tr>\n",
       "    <tr>\n",
       "      <th>9</th>\n",
       "      <td>Hartford Courant</td>\n",
       "      <td>231.177</td>\n",
       "      <td>323.084</td>\n",
       "    </tr>\n",
       "    <tr>\n",
       "      <th>10</th>\n",
       "      <td>Houston Chronicle</td>\n",
       "      <td>449.755</td>\n",
       "      <td>620.752</td>\n",
       "    </tr>\n",
       "    <tr>\n",
       "      <th>11</th>\n",
       "      <td>Kansas City Star</td>\n",
       "      <td>288.571</td>\n",
       "      <td>423.305</td>\n",
       "    </tr>\n",
       "    <tr>\n",
       "      <th>12</th>\n",
       "      <td>Los Angeles Daily  News</td>\n",
       "      <td>185.736</td>\n",
       "      <td>202.614</td>\n",
       "    </tr>\n",
       "    <tr>\n",
       "      <th>13</th>\n",
       "      <td>Los Angeles Times</td>\n",
       "      <td>1164.388</td>\n",
       "      <td>1531.527</td>\n",
       "    </tr>\n",
       "    <tr>\n",
       "      <th>14</th>\n",
       "      <td>Miami Herald</td>\n",
       "      <td>444.581</td>\n",
       "      <td>553.479</td>\n",
       "    </tr>\n",
       "    <tr>\n",
       "      <th>15</th>\n",
       "      <td>Minneapolis Star Tribune</td>\n",
       "      <td>412.871</td>\n",
       "      <td>685.975</td>\n",
       "    </tr>\n",
       "    <tr>\n",
       "      <th>16</th>\n",
       "      <td>New Orleans Times-Picayune</td>\n",
       "      <td>272.280</td>\n",
       "      <td>324.241</td>\n",
       "    </tr>\n",
       "    <tr>\n",
       "      <th>17</th>\n",
       "      <td>New York Daily News</td>\n",
       "      <td>781.796</td>\n",
       "      <td>983.240</td>\n",
       "    </tr>\n",
       "    <tr>\n",
       "      <th>18</th>\n",
       "      <td>New York Times</td>\n",
       "      <td>1209.225</td>\n",
       "      <td>1762.015</td>\n",
       "    </tr>\n",
       "    <tr>\n",
       "      <th>19</th>\n",
       "      <td>Newsday</td>\n",
       "      <td>825.512</td>\n",
       "      <td>960.308</td>\n",
       "    </tr>\n",
       "    <tr>\n",
       "      <th>20</th>\n",
       "      <td>Omaha World Herald</td>\n",
       "      <td>223.748</td>\n",
       "      <td>284.611</td>\n",
       "    </tr>\n",
       "    <tr>\n",
       "      <th>21</th>\n",
       "      <td>Orange County Register</td>\n",
       "      <td>354.843</td>\n",
       "      <td>407.760</td>\n",
       "    </tr>\n",
       "    <tr>\n",
       "      <th>22</th>\n",
       "      <td>Philadelphia Inquirer</td>\n",
       "      <td>515.523</td>\n",
       "      <td>982.663</td>\n",
       "    </tr>\n",
       "    <tr>\n",
       "      <th>23</th>\n",
       "      <td>Pittsburgh Press</td>\n",
       "      <td>220.465</td>\n",
       "      <td>557.000</td>\n",
       "    </tr>\n",
       "    <tr>\n",
       "      <th>24</th>\n",
       "      <td>Portland Oregonian</td>\n",
       "      <td>337.672</td>\n",
       "      <td>440.923</td>\n",
       "    </tr>\n",
       "    <tr>\n",
       "      <th>25</th>\n",
       "      <td>Providence Journal-Bulletin</td>\n",
       "      <td>197.120</td>\n",
       "      <td>268.060</td>\n",
       "    </tr>\n",
       "    <tr>\n",
       "      <th>26</th>\n",
       "      <td>Rochester Democrat &amp; Chronicle</td>\n",
       "      <td>133.239</td>\n",
       "      <td>262.048</td>\n",
       "    </tr>\n",
       "    <tr>\n",
       "      <th>27</th>\n",
       "      <td>Rocky Mountain News</td>\n",
       "      <td>374.009</td>\n",
       "      <td>432.502</td>\n",
       "    </tr>\n",
       "    <tr>\n",
       "      <th>28</th>\n",
       "      <td>Sacramento Bee</td>\n",
       "      <td>273.844</td>\n",
       "      <td>338.355</td>\n",
       "    </tr>\n",
       "    <tr>\n",
       "      <th>29</th>\n",
       "      <td>San Francisco Chronicle</td>\n",
       "      <td>570.364</td>\n",
       "      <td>704.322</td>\n",
       "    </tr>\n",
       "    <tr>\n",
       "      <th>30</th>\n",
       "      <td>St. Louis Post-Dispatch</td>\n",
       "      <td>391.286</td>\n",
       "      <td>585.681</td>\n",
       "    </tr>\n",
       "    <tr>\n",
       "      <th>31</th>\n",
       "      <td>St. Paul Pioneer Press</td>\n",
       "      <td>201.860</td>\n",
       "      <td>267.781</td>\n",
       "    </tr>\n",
       "    <tr>\n",
       "      <th>32</th>\n",
       "      <td>Tampa Tribune</td>\n",
       "      <td>321.626</td>\n",
       "      <td>408.343</td>\n",
       "    </tr>\n",
       "    <tr>\n",
       "      <th>33</th>\n",
       "      <td>Washington Post</td>\n",
       "      <td>838.902</td>\n",
       "      <td>1165.567</td>\n",
       "    </tr>\n",
       "  </tbody>\n",
       "</table>\n",
       "</div>"
      ],
      "text/plain": [
       "                         Newspaper     daily    sunday\n",
       "0                    Baltimore Sun   391.952   488.506\n",
       "1                     Boston Globe   516.981   798.298\n",
       "2                    Boston Herald   355.628   235.084\n",
       "3               Charlotte Observer   238.555   299.451\n",
       "4                Chicago Sun Times   537.780   559.093\n",
       "5                  Chicago Tribune   733.775  1133.249\n",
       "6              Cincinnati Enquirer   198.832   348.744\n",
       "7                      Denver Post   252.624   417.779\n",
       "8              Des Moines Register   206.204   344.522\n",
       "9                 Hartford Courant   231.177   323.084\n",
       "10               Houston Chronicle   449.755   620.752\n",
       "11                Kansas City Star   288.571   423.305\n",
       "12         Los Angeles Daily  News   185.736   202.614\n",
       "13               Los Angeles Times  1164.388  1531.527\n",
       "14                    Miami Herald   444.581   553.479\n",
       "15        Minneapolis Star Tribune   412.871   685.975\n",
       "16      New Orleans Times-Picayune   272.280   324.241\n",
       "17             New York Daily News   781.796   983.240\n",
       "18                  New York Times  1209.225  1762.015\n",
       "19                         Newsday   825.512   960.308\n",
       "20              Omaha World Herald   223.748   284.611\n",
       "21          Orange County Register   354.843   407.760\n",
       "22           Philadelphia Inquirer   515.523   982.663\n",
       "23                Pittsburgh Press   220.465   557.000\n",
       "24              Portland Oregonian   337.672   440.923\n",
       "25     Providence Journal-Bulletin   197.120   268.060\n",
       "26  Rochester Democrat & Chronicle   133.239   262.048\n",
       "27             Rocky Mountain News   374.009   432.502\n",
       "28                  Sacramento Bee   273.844   338.355\n",
       "29         San Francisco Chronicle   570.364   704.322\n",
       "30         St. Louis Post-Dispatch   391.286   585.681\n",
       "31          St. Paul Pioneer Press   201.860   267.781\n",
       "32                   Tampa Tribune   321.626   408.343\n",
       "33                 Washington Post   838.902  1165.567"
      ]
     },
     "execution_count": 2,
     "metadata": {},
     "output_type": "execute_result"
    }
   ],
   "source": [
    "df"
   ]
  },
  {
   "cell_type": "code",
   "execution_count": 3,
   "id": "94c50e1d",
   "metadata": {
    "execution": {
     "iopub.execute_input": "2024-12-25T16:39:23.458984Z",
     "iopub.status.busy": "2024-12-25T16:39:23.458647Z",
     "iopub.status.idle": "2024-12-25T16:39:23.464868Z",
     "shell.execute_reply": "2024-12-25T16:39:23.463656Z"
    },
    "papermill": {
     "duration": 0.016577,
     "end_time": "2024-12-25T16:39:23.466501",
     "exception": false,
     "start_time": "2024-12-25T16:39:23.449924",
     "status": "completed"
    },
    "tags": []
   },
   "outputs": [
    {
     "data": {
      "text/plain": [
       "(34, 3)"
      ]
     },
     "execution_count": 3,
     "metadata": {},
     "output_type": "execute_result"
    }
   ],
   "source": [
    "df.shape"
   ]
  },
  {
   "cell_type": "code",
   "execution_count": 4,
   "id": "04fc2288",
   "metadata": {
    "execution": {
     "iopub.execute_input": "2024-12-25T16:39:23.483111Z",
     "iopub.status.busy": "2024-12-25T16:39:23.482716Z",
     "iopub.status.idle": "2024-12-25T16:39:23.490720Z",
     "shell.execute_reply": "2024-12-25T16:39:23.489762Z"
    },
    "papermill": {
     "duration": 0.018813,
     "end_time": "2024-12-25T16:39:23.492617",
     "exception": false,
     "start_time": "2024-12-25T16:39:23.473804",
     "status": "completed"
    },
    "tags": []
   },
   "outputs": [
    {
     "data": {
      "text/plain": [
       "Index(['Newspaper', 'daily', 'sunday'], dtype='object')"
      ]
     },
     "execution_count": 4,
     "metadata": {},
     "output_type": "execute_result"
    }
   ],
   "source": [
    "df.columns"
   ]
  },
  {
   "cell_type": "code",
   "execution_count": 5,
   "id": "125a5c6e",
   "metadata": {
    "execution": {
     "iopub.execute_input": "2024-12-25T16:39:23.509005Z",
     "iopub.status.busy": "2024-12-25T16:39:23.508502Z",
     "iopub.status.idle": "2024-12-25T16:39:26.154780Z",
     "shell.execute_reply": "2024-12-25T16:39:26.153548Z"
    },
    "papermill": {
     "duration": 2.657036,
     "end_time": "2024-12-25T16:39:26.156990",
     "exception": false,
     "start_time": "2024-12-25T16:39:23.499954",
     "status": "completed"
    },
    "tags": []
   },
   "outputs": [
    {
     "name": "stderr",
     "output_type": "stream",
     "text": [
      "<ipython-input-5-2c374521dd38>:4: UserWarning: \n",
      "\n",
      "`distplot` is a deprecated function and will be removed in seaborn v0.14.0.\n",
      "\n",
      "Please adapt your code to use either `displot` (a figure-level function with\n",
      "similar flexibility) or `histplot` (an axes-level function for histograms).\n",
      "\n",
      "For a guide to updating your code to use the new functions, please see\n",
      "https://gist.github.com/mwaskom/de44147ed2974457ad6372750bbe5751\n",
      "\n",
      "  sns.distplot(df['daily'])\n",
      "/usr/local/lib/python3.10/dist-packages/seaborn/_oldcore.py:1119: FutureWarning: use_inf_as_na option is deprecated and will be removed in a future version. Convert inf values to NaN before operating instead.\n",
      "  with pd.option_context('mode.use_inf_as_na', True):\n"
     ]
    },
    {
     "data": {
      "text/plain": [
       "<Axes: xlabel='daily', ylabel='Density'>"
      ]
     },
     "execution_count": 5,
     "metadata": {},
     "output_type": "execute_result"
    },
    {
     "data": {
      "image/png": "[encoded data removed]",
      "text/plain": [
       "<Figure size 640x480 with 1 Axes>"
      ]
     },
     "metadata": {},
     "output_type": "display_data"
    }
   ],
   "source": [
    "import matplotlib.pyplot as plt\n",
    "import seaborn as sns\n",
    "import statsmodels.formula.api as smf\n",
    "sns.distplot(df['daily'])"
   ]
  },
  {
   "cell_type": "code",
   "execution_count": 6,
   "id": "2d73fa00",
   "metadata": {
    "execution": {
     "iopub.execute_input": "2024-12-25T16:39:26.175416Z",
     "iopub.status.busy": "2024-12-25T16:39:26.174249Z",
     "iopub.status.idle": "2024-12-25T16:39:26.187411Z",
     "shell.execute_reply": "2024-12-25T16:39:26.186311Z"
    },
    "papermill": {
     "duration": 0.024002,
     "end_time": "2024-12-25T16:39:26.189250",
     "exception": false,
     "start_time": "2024-12-25T16:39:26.165248",
     "status": "completed"
    },
    "tags": []
   },
   "outputs": [
    {
     "data": {
      "text/html": [
       "<div>\n",
       "<style scoped>\n",
       "    .dataframe tbody tr th:only-of-type {\n",
       "        vertical-align: middle;\n",
       "    }\n",
       "\n",
       "    .dataframe tbody tr th {\n",
       "        vertical-align: top;\n",
       "    }\n",
       "\n",
       "    .dataframe thead th {\n",
       "        text-align: right;\n",
       "    }\n",
       "</style>\n",
       "<table border=\"1\" class=\"dataframe\">\n",
       "  <thead>\n",
       "    <tr style=\"text-align: right;\">\n",
       "      <th></th>\n",
       "      <th>daily</th>\n",
       "      <th>sunday</th>\n",
       "    </tr>\n",
       "  </thead>\n",
       "  <tbody>\n",
       "    <tr>\n",
       "      <th>daily</th>\n",
       "      <td>1.000000</td>\n",
       "      <td>0.958154</td>\n",
       "    </tr>\n",
       "    <tr>\n",
       "      <th>sunday</th>\n",
       "      <td>0.958154</td>\n",
       "      <td>1.000000</td>\n",
       "    </tr>\n",
       "  </tbody>\n",
       "</table>\n",
       "</div>"
      ],
      "text/plain": [
       "           daily    sunday\n",
       "daily   1.000000  0.958154\n",
       "sunday  0.958154  1.000000"
      ]
     },
     "execution_count": 6,
     "metadata": {},
     "output_type": "execute_result"
    }
   ],
   "source": [
    "z=df.corr(numeric_only=True)\n",
    "z"
   ]
  },
  {
   "cell_type": "code",
   "execution_count": 7,
   "id": "73d6e2f7",
   "metadata": {
    "execution": {
     "iopub.execute_input": "2024-12-25T16:39:26.207077Z",
     "iopub.status.busy": "2024-12-25T16:39:26.206684Z",
     "iopub.status.idle": "2024-12-25T16:39:26.482973Z",
     "shell.execute_reply": "2024-12-25T16:39:26.481850Z"
    },
    "papermill": {
     "duration": 0.287438,
     "end_time": "2024-12-25T16:39:26.485000",
     "exception": false,
     "start_time": "2024-12-25T16:39:26.197562",
     "status": "completed"
    },
    "tags": []
   },
   "outputs": [
    {
     "name": "stderr",
     "output_type": "stream",
     "text": [
      "<ipython-input-7-ce0649bd17ee>:1: UserWarning: \n",
      "\n",
      "`distplot` is a deprecated function and will be removed in seaborn v0.14.0.\n",
      "\n",
      "Please adapt your code to use either `displot` (a figure-level function with\n",
      "similar flexibility) or `histplot` (an axes-level function for histograms).\n",
      "\n",
      "For a guide to updating your code to use the new functions, please see\n",
      "https://gist.github.com/mwaskom/de44147ed2974457ad6372750bbe5751\n",
      "\n",
      "  sns.distplot(df['sunday'])\n",
      "/usr/local/lib/python3.10/dist-packages/seaborn/_oldcore.py:1119: FutureWarning: use_inf_as_na option is deprecated and will be removed in a future version. Convert inf values to NaN before operating instead.\n",
      "  with pd.option_context('mode.use_inf_as_na', True):\n"
     ]
    },
    {
     "data": {
      "text/plain": [
       "<Axes: xlabel='sunday', ylabel='Density'>"
      ]
     },
     "execution_count": 7,
     "metadata": {},
     "output_type": "execute_result"
    },
    {
     "data": {
      "image/png": "[encoded data removed]",
      "text/plain": [
       "<Figure size 640x480 with 1 Axes>"
      ]
     },
     "metadata": {},
     "output_type": "display_data"
    }
   ],
   "source": [
    "sns.distplot(df['sunday'])"
   ]
  },
  {
   "cell_type": "code",
   "execution_count": 8,
   "id": "f8ece6c9",
   "metadata": {
    "execution": {
     "iopub.execute_input": "2024-12-25T16:39:26.504509Z",
     "iopub.status.busy": "2024-12-25T16:39:26.504158Z",
     "iopub.status.idle": "2024-12-25T16:39:26.535255Z",
     "shell.execute_reply": "2024-12-25T16:39:26.534093Z"
    },
    "papermill": {
     "duration": 0.04298,
     "end_time": "2024-12-25T16:39:26.537101",
     "exception": false,
     "start_time": "2024-12-25T16:39:26.494121",
     "status": "completed"
    },
    "tags": []
   },
   "outputs": [
    {
     "data": {
      "text/plain": [
       "Intercept    13.835630\n",
       "daily         1.339715\n",
       "dtype: float64"
      ]
     },
     "execution_count": 8,
     "metadata": {},
     "output_type": "execute_result"
    }
   ],
   "source": [
    "model=smf.ols(\"sunday~daily\",data=df).fit()\n",
    "model.params\n",
    "#y=mx+c,y=beta1 x and beta0"
   ]
  },
  {
   "cell_type": "code",
   "execution_count": 9,
   "id": "a3b3956b",
   "metadata": {
    "execution": {
     "iopub.execute_input": "2024-12-25T16:39:26.557102Z",
     "iopub.status.busy": "2024-12-25T16:39:26.556745Z",
     "iopub.status.idle": "2024-12-25T16:39:26.564754Z",
     "shell.execute_reply": "2024-12-25T16:39:26.563794Z"
    },
    "papermill": {
     "duration": 0.019662,
     "end_time": "2024-12-25T16:39:26.566415",
     "exception": false,
     "start_time": "2024-12-25T16:39:26.546753",
     "status": "completed"
    },
    "tags": []
   },
   "outputs": [
    {
     "data": {
      "text/plain": [
       "(Intercept     0.386427\n",
       " daily        18.934840\n",
       " dtype: float64,\n",
       " '\\n',\n",
       " Intercept    7.017382e-01\n",
       " daily        6.016802e-19\n",
       " dtype: float64)"
      ]
     },
     "execution_count": 9,
     "metadata": {},
     "output_type": "execute_result"
    }
   ],
   "source": [
    "(model.tvalues,'\\n',model.pvalues)\n",
    "#Intercept,bet0:tvalue: 0.386427,pvalue:7.017xe-01\n",
    "#Intercept ,beta1:tvalue:18.93,pvalue= 6.016802e-19\n",
    "#p value=0.00000000000006016<0.05(significance level)"
   ]
  },
  {
   "cell_type": "code",
   "execution_count": 10,
   "id": "e5de97bb",
   "metadata": {
    "execution": {
     "iopub.execute_input": "2024-12-25T16:39:26.585964Z",
     "iopub.status.busy": "2024-12-25T16:39:26.585639Z",
     "iopub.status.idle": "2024-12-25T16:39:26.591488Z",
     "shell.execute_reply": "2024-12-25T16:39:26.590142Z"
    },
    "papermill": {
     "duration": 0.017797,
     "end_time": "2024-12-25T16:39:26.593483",
     "exception": false,
     "start_time": "2024-12-25T16:39:26.575686",
     "status": "completed"
    },
    "tags": []
   },
   "outputs": [
    {
     "name": "stdout",
     "output_type": "stream",
     "text": [
      "Intercept     0.386427\n",
      "daily        18.934840\n",
      "dtype: float64\n"
     ]
    }
   ],
   "source": [
    "print(model.tvalues)"
   ]
  },
  {
   "cell_type": "code",
   "execution_count": 11,
   "id": "d88be8c6",
   "metadata": {
    "execution": {
     "iopub.execute_input": "2024-12-25T16:39:26.613319Z",
     "iopub.status.busy": "2024-12-25T16:39:26.612892Z",
     "iopub.status.idle": "2024-12-25T16:39:26.619566Z",
     "shell.execute_reply": "2024-12-25T16:39:26.618115Z"
    },
    "papermill": {
     "duration": 0.018656,
     "end_time": "2024-12-25T16:39:26.621481",
     "exception": false,
     "start_time": "2024-12-25T16:39:26.602825",
     "status": "completed"
    },
    "tags": []
   },
   "outputs": [
    {
     "name": "stdout",
     "output_type": "stream",
     "text": [
      "Intercept    7.017382e-01\n",
      "daily        6.016802e-19\n",
      "dtype: float64\n"
     ]
    }
   ],
   "source": [
    "print(model.pvalues)"
   ]
  },
  {
   "cell_type": "code",
   "execution_count": 12,
   "id": "87b8415d",
   "metadata": {
    "execution": {
     "iopub.execute_input": "2024-12-25T16:39:26.641490Z",
     "iopub.status.busy": "2024-12-25T16:39:26.641113Z",
     "iopub.status.idle": "2024-12-25T16:39:26.645212Z",
     "shell.execute_reply": "2024-12-25T16:39:26.644156Z"
    },
    "papermill": {
     "duration": 0.016198,
     "end_time": "2024-12-25T16:39:26.647084",
     "exception": false,
     "start_time": "2024-12-25T16:39:26.630886",
     "status": "completed"
    },
    "tags": []
   },
   "outputs": [],
   "source": [
    "import numpy as np\n",
    "from scipy import stats"
   ]
  },
  {
   "cell_type": "code",
   "execution_count": 13,
   "id": "031227f9",
   "metadata": {
    "execution": {
     "iopub.execute_input": "2024-12-25T16:39:26.666832Z",
     "iopub.status.busy": "2024-12-25T16:39:26.666466Z",
     "iopub.status.idle": "2024-12-25T16:39:26.672867Z",
     "shell.execute_reply": "2024-12-25T16:39:26.671763Z"
    },
    "papermill": {
     "duration": 0.018349,
     "end_time": "2024-12-25T16:39:26.674745",
     "exception": false,
     "start_time": "2024-12-25T16:39:26.656396",
     "status": "completed"
    },
    "tags": []
   },
   "outputs": [
    {
     "data": {
      "text/plain": [
       "0.8289438736915182"
      ]
     },
     "execution_count": 13,
     "metadata": {},
     "output_type": "execute_result"
    }
   ],
   "source": [
    "stats.norm.cdf(0.95) #cdf=z-score,95% CI\n",
    "#zscore"
   ]
  },
  {
   "cell_type": "code",
   "execution_count": 14,
   "id": "85c2bdff",
   "metadata": {
    "execution": {
     "iopub.execute_input": "2024-12-25T16:39:26.695026Z",
     "iopub.status.busy": "2024-12-25T16:39:26.694657Z",
     "iopub.status.idle": "2024-12-25T16:39:27.054030Z",
     "shell.execute_reply": "2024-12-25T16:39:27.052924Z"
    },
    "papermill": {
     "duration": 0.37167,
     "end_time": "2024-12-25T16:39:27.055794",
     "exception": false,
     "start_time": "2024-12-25T16:39:26.684124",
     "status": "completed"
    },
    "tags": []
   },
   "outputs": [
    {
     "data": {
      "text/plain": [
       "<Axes: xlabel='daily', ylabel='sunday'>"
      ]
     },
     "execution_count": 14,
     "metadata": {},
     "output_type": "execute_result"
    },
    {
     "data": {
      "image/png": "[encoded data removed]",
      "text/plain": [
       "<Figure size 640x480 with 1 Axes>"
      ]
     },
     "metadata": {},
     "output_type": "display_data"
    }
   ],
   "source": [
    "# Visualization of Correlation beteen x and y\n",
    "sns.regplot(x=df['daily'],y=df['sunday'])  # regplot = regression plot"
   ]
  },
  {
   "cell_type": "code",
   "execution_count": 15,
   "id": "db6fb956",
   "metadata": {
    "execution": {
     "iopub.execute_input": "2024-12-25T16:39:27.077874Z",
     "iopub.status.busy": "2024-12-25T16:39:27.077497Z",
     "iopub.status.idle": "2024-12-25T16:39:27.083810Z",
     "shell.execute_reply": "2024-12-25T16:39:27.082713Z"
    },
    "papermill": {
     "duration": 0.01945,
     "end_time": "2024-12-25T16:39:27.085567",
     "exception": false,
     "start_time": "2024-12-25T16:39:27.066117",
     "status": "completed"
    },
    "tags": []
   },
   "outputs": [
    {
     "data": {
      "text/plain": [
       "(0.9180596895873295, 0.9154990548869336)"
      ]
     },
     "execution_count": 15,
     "metadata": {},
     "output_type": "execute_result"
    }
   ],
   "source": [
    "model.rsquared,model.rsquared_adj\n",
    "# Bias, correction factor,75"
   ]
  },
  {
   "cell_type": "code",
   "execution_count": 16,
   "id": "ab42e08a",
   "metadata": {
    "execution": {
     "iopub.execute_input": "2024-12-25T16:39:27.108401Z",
     "iopub.status.busy": "2024-12-25T16:39:27.108000Z",
     "iopub.status.idle": "2024-12-25T16:39:27.111875Z",
     "shell.execute_reply": "2024-12-25T16:39:27.110889Z"
    },
    "papermill": {
     "duration": 0.016739,
     "end_time": "2024-12-25T16:39:27.113446",
     "exception": false,
     "start_time": "2024-12-25T16:39:27.096707",
     "status": "completed"
    },
    "tags": []
   },
   "outputs": [],
   "source": [
    "# null Hypothesis: Sunday News paper edition is in- dependent on Daily Edition\n",
    "# Alternative Hypothesis:Sunday News paper edition is dependent on Daily Edition\n",
    "# Intercept value which is p value is less than 0.05 (alpha level,significance level),reject nULL hYPOTHESIS\n",
    "#INFER REJECT NULL HYPOTHESIS"
   ]
  },
  {
   "cell_type": "code",
   "execution_count": 17,
   "id": "bbe509b6",
   "metadata": {
    "execution": {
     "iopub.execute_input": "2024-12-25T16:39:27.135346Z",
     "iopub.status.busy": "2024-12-25T16:39:27.134941Z",
     "iopub.status.idle": "2024-12-25T16:39:27.141350Z",
     "shell.execute_reply": "2024-12-25T16:39:27.140376Z"
    },
    "papermill": {
     "duration": 0.019253,
     "end_time": "2024-12-25T16:39:27.143159",
     "exception": false,
     "start_time": "2024-12-25T16:39:27.123906",
     "status": "completed"
    },
    "tags": []
   },
   "outputs": [
    {
     "data": {
      "text/plain": [
       "0.8289438736915182"
      ]
     },
     "execution_count": 17,
     "metadata": {},
     "output_type": "execute_result"
    }
   ],
   "source": [
    "stats.norm.cdf(0.95)\n",
    "# z=0.82"
   ]
  },
  {
   "cell_type": "code",
   "execution_count": 18,
   "id": "31df99a0",
   "metadata": {
    "execution": {
     "iopub.execute_input": "2024-12-25T16:39:27.165381Z",
     "iopub.status.busy": "2024-12-25T16:39:27.164962Z",
     "iopub.status.idle": "2024-12-25T16:39:27.168936Z",
     "shell.execute_reply": "2024-12-25T16:39:27.167778Z"
    },
    "papermill": {
     "duration": 0.017084,
     "end_time": "2024-12-25T16:39:27.170720",
     "exception": false,
     "start_time": "2024-12-25T16:39:27.153636",
     "status": "completed"
    },
    "tags": []
   },
   "outputs": [],
   "source": [
    "#1-0.05=0.95,5 percent uncertainity"
   ]
  },
  {
   "cell_type": "code",
   "execution_count": null,
   "id": "05dcc661",
   "metadata": {
    "papermill": {
     "duration": 0.010181,
     "end_time": "2024-12-25T16:39:27.191281",
     "exception": false,
     "start_time": "2024-12-25T16:39:27.181100",
     "status": "completed"
    },
    "tags": []
   },
   "outputs": [],
   "source": []
  },
  {
   "cell_type": "code",
   "execution_count": null,
   "id": "de6a2c8d",
   "metadata": {
    "execution": {
     "iopub.status.busy": "2024-12-25T16:36:29.273297Z",
     "iopub.status.idle": "2024-12-25T16:36:29.273669Z",
     "shell.execute_reply": "2024-12-25T16:36:29.273502Z"
    },
    "papermill": {
     "duration": 0.010167,
     "end_time": "2024-12-25T16:39:27.211948",
     "exception": false,
     "start_time": "2024-12-25T16:39:27.201781",
     "status": "completed"
    },
    "tags": []
   },
   "outputs": [],
   "source": []
  },
  {
   "cell_type": "code",
   "execution_count": null,
   "id": "407327d6",
   "metadata": {
    "execution": {
     "iopub.status.busy": "2024-12-25T16:36:29.274906Z",
     "iopub.status.idle": "2024-12-25T16:36:29.275362Z",
     "shell.execute_reply": "2024-12-25T16:36:29.275163Z"
    },
    "papermill": {
     "duration": 0.010508,
     "end_time": "2024-12-25T16:39:27.233857",
     "exception": false,
     "start_time": "2024-12-25T16:39:27.223349",
     "status": "completed"
    },
    "tags": []
   },
   "outputs": [],
   "source": []
  },
  {
   "cell_type": "code",
   "execution_count": null,
   "id": "44fe9a25",
   "metadata": {
    "execution": {
     "iopub.status.busy": "2024-12-25T16:36:29.276363Z",
     "iopub.status.idle": "2024-12-25T16:36:29.276868Z",
     "shell.execute_reply": "2024-12-25T16:36:29.276670Z"
    },
    "papermill": {
     "duration": 0.010559,
     "end_time": "2024-12-25T16:39:27.255183",
     "exception": false,
     "start_time": "2024-12-25T16:39:27.244624",
     "status": "completed"
    },
    "tags": []
   },
   "outputs": [],
   "source": []
  },
  {
   "cell_type": "code",
   "execution_count": null,
   "id": "23476a50",
   "metadata": {
    "execution": {
     "iopub.status.busy": "2024-12-25T16:36:29.277846Z",
     "iopub.status.idle": "2024-12-25T16:36:29.278297Z",
     "shell.execute_reply": "2024-12-25T16:36:29.278099Z"
    },
    "papermill": {
     "duration": 0.010083,
     "end_time": "2024-12-25T16:39:27.275845",
     "exception": false,
     "start_time": "2024-12-25T16:39:27.265762",
     "status": "completed"
    },
    "tags": []
   },
   "outputs": [],
   "source": []
  },
  {
   "cell_type": "code",
   "execution_count": null,
   "id": "1aa0c329",
   "metadata": {
    "execution": {
     "iopub.status.busy": "2024-12-25T16:36:29.279434Z",
     "iopub.status.idle": "2024-12-25T16:36:29.279933Z",
     "shell.execute_reply": "2024-12-25T16:36:29.279724Z"
    },
    "papermill": {
     "duration": 0.010456,
     "end_time": "2024-12-25T16:39:27.297039",
     "exception": false,
     "start_time": "2024-12-25T16:39:27.286583",
     "status": "completed"
    },
    "tags": []
   },
   "outputs": [],
   "source": []
  },
  {
   "cell_type": "code",
   "execution_count": null,
   "id": "4d593b26",
   "metadata": {
    "execution": {
     "iopub.status.busy": "2024-12-25T16:36:29.280808Z",
     "iopub.status.idle": "2024-12-25T16:36:29.281255Z",
     "shell.execute_reply": "2024-12-25T16:36:29.281068Z"
    },
    "papermill": {
     "duration": 0.010329,
     "end_time": "2024-12-25T16:39:27.318265",
     "exception": false,
     "start_time": "2024-12-25T16:39:27.307936",
     "status": "completed"
    },
    "tags": []
   },
   "outputs": [],
   "source": []
  },
  {
   "cell_type": "code",
   "execution_count": null,
   "id": "f8b025a1",
   "metadata": {
    "execution": {
     "iopub.status.busy": "2024-12-25T16:36:29.282156Z",
     "iopub.status.idle": "2024-12-25T16:36:29.282632Z",
     "shell.execute_reply": "2024-12-25T16:36:29.282398Z"
    },
    "papermill": {
     "duration": 0.011702,
     "end_time": "2024-12-25T16:39:27.340529",
     "exception": false,
     "start_time": "2024-12-25T16:39:27.328827",
     "status": "completed"
    },
    "tags": []
   },
   "outputs": [],
   "source": []
  },
  {
   "cell_type": "code",
   "execution_count": null,
   "id": "0503ad84",
   "metadata": {
    "execution": {
     "iopub.status.busy": "2024-12-25T16:36:29.283736Z",
     "iopub.status.idle": "2024-12-25T16:36:29.284186Z",
     "shell.execute_reply": "2024-12-25T16:36:29.283983Z"
    },
    "papermill": {
     "duration": 0.010269,
     "end_time": "2024-12-25T16:39:27.361411",
     "exception": false,
     "start_time": "2024-12-25T16:39:27.351142",
     "status": "completed"
    },
    "tags": []
   },
   "outputs": [],
   "source": []
  },
  {
   "cell_type": "code",
   "execution_count": null,
   "id": "8994b8ad",
   "metadata": {
    "execution": {
     "iopub.status.busy": "2024-12-25T16:36:29.285091Z",
     "iopub.status.idle": "2024-12-25T16:36:29.285531Z",
     "shell.execute_reply": "2024-12-25T16:36:29.285332Z"
    },
    "papermill": {
     "duration": 0.010184,
     "end_time": "2024-12-25T16:39:27.382064",
     "exception": false,
     "start_time": "2024-12-25T16:39:27.371880",
     "status": "completed"
    },
    "tags": []
   },
   "outputs": [],
   "source": []
  },
  {
   "cell_type": "code",
   "execution_count": null,
   "id": "4ff61cda",
   "metadata": {
    "execution": {
     "iopub.status.busy": "2024-12-25T16:36:29.286786Z",
     "iopub.status.idle": "2024-12-25T16:36:29.287220Z",
     "shell.execute_reply": "2024-12-25T16:36:29.287031Z"
    },
    "papermill": {
     "duration": 0.010047,
     "end_time": "2024-12-25T16:39:27.402612",
     "exception": false,
     "start_time": "2024-12-25T16:39:27.392565",
     "status": "completed"
    },
    "tags": []
   },
   "outputs": [],
   "source": []
  },
  {
   "cell_type": "code",
   "execution_count": null,
   "id": "3a5069c3",
   "metadata": {
    "execution": {
     "iopub.status.busy": "2024-12-25T16:36:29.288357Z",
     "iopub.status.idle": "2024-12-25T16:36:29.288831Z",
     "shell.execute_reply": "2024-12-25T16:36:29.288635Z"
    },
    "papermill": {
     "duration": 0.010241,
     "end_time": "2024-12-25T16:39:27.423608",
     "exception": false,
     "start_time": "2024-12-25T16:39:27.413367",
     "status": "completed"
    },
    "tags": []
   },
   "outputs": [],
   "source": []
  },
  {
   "cell_type": "code",
   "execution_count": null,
   "id": "39e139fe",
   "metadata": {
    "execution": {
     "iopub.status.busy": "2024-12-25T16:36:29.289679Z",
     "iopub.status.idle": "2024-12-25T16:36:29.290111Z",
     "shell.execute_reply": "2024-12-25T16:36:29.289924Z"
    },
    "papermill": {
     "duration": 0.010136,
     "end_time": "2024-12-25T16:39:27.444169",
     "exception": false,
     "start_time": "2024-12-25T16:39:27.434033",
     "status": "completed"
    },
    "tags": []
   },
   "outputs": [],
   "source": []
  },
  {
   "cell_type": "code",
   "execution_count": null,
   "id": "a66eaf90",
   "metadata": {
    "execution": {
     "iopub.status.busy": "2024-12-25T16:36:29.290871Z",
     "iopub.status.idle": "2024-12-25T16:36:29.291303Z",
     "shell.execute_reply": "2024-12-25T16:36:29.291117Z"
    },
    "papermill": {
     "duration": 0.010133,
     "end_time": "2024-12-25T16:39:27.465244",
     "exception": false,
     "start_time": "2024-12-25T16:39:27.455111",
     "status": "completed"
    },
    "tags": []
   },
   "outputs": [],
   "source": []
  },
  {
   "cell_type": "code",
   "execution_count": null,
   "id": "6ec8bb8d",
   "metadata": {
    "execution": {
     "iopub.status.busy": "2024-12-25T16:36:29.292266Z",
     "iopub.status.idle": "2024-12-25T16:36:29.292739Z",
     "shell.execute_reply": "2024-12-25T16:36:29.292522Z"
    },
    "papermill": {
     "duration": 0.010752,
     "end_time": "2024-12-25T16:39:27.486366",
     "exception": false,
     "start_time": "2024-12-25T16:39:27.475614",
     "status": "completed"
    },
    "tags": []
   },
   "outputs": [],
   "source": []
  },
  {
   "cell_type": "code",
   "execution_count": null,
   "id": "bc17bd3a",
   "metadata": {
    "execution": {
     "iopub.status.busy": "2024-12-25T16:36:29.293484Z",
     "iopub.status.idle": "2024-12-25T16:36:29.293953Z",
     "shell.execute_reply": "2024-12-25T16:36:29.293753Z"
    },
    "papermill": {
     "duration": 0.010145,
     "end_time": "2024-12-25T16:39:27.507120",
     "exception": false,
     "start_time": "2024-12-25T16:39:27.496975",
     "status": "completed"
    },
    "tags": []
   },
   "outputs": [],
   "source": []
  },
  {
   "cell_type": "code",
   "execution_count": null,
   "id": "8fb66abb",
   "metadata": {
    "execution": {
     "iopub.status.busy": "2024-12-25T16:36:29.294794Z",
     "iopub.status.idle": "2024-12-25T16:36:29.295525Z",
     "shell.execute_reply": "2024-12-25T16:36:29.295040Z"
    },
    "papermill": {
     "duration": 0.010056,
     "end_time": "2024-12-25T16:39:27.527658",
     "exception": false,
     "start_time": "2024-12-25T16:39:27.517602",
     "status": "completed"
    },
    "tags": []
   },
   "outputs": [],
   "source": []
  },
  {
   "cell_type": "code",
   "execution_count": null,
   "id": "b34ba19e",
   "metadata": {
    "execution": {
     "iopub.status.busy": "2024-12-25T16:36:29.296327Z",
     "iopub.status.idle": "2024-12-25T16:36:29.296729Z",
     "shell.execute_reply": "2024-12-25T16:36:29.296556Z"
    },
    "papermill": {
     "duration": 0.010298,
     "end_time": "2024-12-25T16:39:27.548497",
     "exception": false,
     "start_time": "2024-12-25T16:39:27.538199",
     "status": "completed"
    },
    "tags": []
   },
   "outputs": [],
   "source": []
  }
 ],
 "metadata": {
  "kaggle": {
   "accelerator": "none",
   "dataSources": [
    {
     "datasetId": 6373399,
     "sourceId": 10297146,
     "sourceType": "datasetVersion"
    }
   ],
   "dockerImageVersionId": 30822,
   "isGpuEnabled": false,
   "isInternetEnabled": true,
   "language": "python",
   "sourceType": "notebook"
  },
  "kernelspec": {
   "display_name": "Python 3",
   "language": "python",
   "name": "python3"
  },
  "language_info": {
   "codemirror_mode": {
    "name": "ipython",
    "version": 3
   },
   "file_extension": ".py",
   "mimetype": "text/x-python",
   "name": "python",
   "nbconvert_exporter": "python",
   "pygments_lexer": "ipython3",
   "version": "3.10.12"
  },
  "papermill": {
   "default_parameters": {},
   "duration": 7.777744,
   "end_time": "2024-12-25T16:39:28.279820",
   "environment_variables": {},
   "exception": null,
   "input_path": "__notebook__.ipynb",
   "output_path": "__notebook__.ipynb",
   "parameters": {},
   "start_time": "2024-12-25T16:39:20.502076",
   "version": "2.6.0"
  }
 },
 "nbformat": 4,
 "nbformat_minor": 5
}
